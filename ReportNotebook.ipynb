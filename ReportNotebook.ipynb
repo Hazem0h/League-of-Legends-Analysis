{
  "nbformat": 4,
  "nbformat_minor": 0,
  "metadata": {
    "colab": {
      "name": "ReportNotebook.ipynb",
      "provenance": [],
      "collapsed_sections": []
    },
    "kernelspec": {
      "name": "python3",
      "display_name": "Python 3"
    },
    "language_info": {
      "name": "python"
    }
  },
  "cells": [
    {
      "cell_type": "markdown",
      "source": [
        "# 19K Matches from \"EUW1\" region and patch 11.23 were used to analyze Items and champions League of Legends game. Here is the process."
      ],
      "metadata": {
        "id": "5VpiLXJ5_MLc"
      }
    },
    {
      "cell_type": "code",
      "execution_count": null,
      "metadata": {
        "colab": {
          "base_uri": "https://localhost:8080/"
        },
        "id": "Lq97Wg3dh9BZ",
        "outputId": "1cac3075-a334-4c87-e16f-defd42025976"
      },
      "outputs": [
        {
          "output_type": "stream",
          "name": "stdout",
          "text": [
            "Collecting pyspark\n",
            "  Downloading pyspark-3.2.0.tar.gz (281.3 MB)\n",
            "\u001b[K     |████████████████████████████████| 281.3 MB 37 kB/s \n",
            "\u001b[?25hCollecting py4j==0.10.9.2\n",
            "  Downloading py4j-0.10.9.2-py2.py3-none-any.whl (198 kB)\n",
            "\u001b[K     |████████████████████████████████| 198 kB 31.4 MB/s \n",
            "\u001b[?25hBuilding wheels for collected packages: pyspark\n",
            "  Building wheel for pyspark (setup.py) ... \u001b[?25l\u001b[?25hdone\n",
            "  Created wheel for pyspark: filename=pyspark-3.2.0-py2.py3-none-any.whl size=281805912 sha256=159cea8abd1d9073940c1474c4a90d64c8f3746ae20e873c8dea97de4dd0266f\n",
            "  Stored in directory: /root/.cache/pip/wheels/0b/de/d2/9be5d59d7331c6c2a7c1b6d1a4f463ce107332b1ecd4e80718\n",
            "Successfully built pyspark\n",
            "Installing collected packages: py4j, pyspark\n",
            "Successfully installed py4j-0.10.9.2 pyspark-3.2.0\n"
          ]
        }
      ],
      "source": [
        "!pip install pyspark"
      ]
    },
    {
      "cell_type": "code",
      "source": [
        "from google.colab import drive\n",
        "from pyspark import SparkContext\n",
        "from pyspark.sql import SparkSession\n",
        "import matplotlib.pyplot as plt\n",
        "drive.mount(\"/content/drive\")"
      ],
      "metadata": {
        "colab": {
          "base_uri": "https://localhost:8080/"
        },
        "id": "XFQHueOXif8u",
        "outputId": "2c271771-826a-450d-f49e-8a227839e5f6"
      },
      "execution_count": null,
      "outputs": [
        {
          "output_type": "stream",
          "name": "stdout",
          "text": [
            "Drive already mounted at /content/drive; to attempt to forcibly remount, call drive.mount(\"/content/drive\", force_remount=True).\n"
          ]
        }
      ]
    },
    {
      "cell_type": "code",
      "source": [
        "import json, pyspark"
      ],
      "metadata": {
        "id": "J6w6sONdikDV"
      },
      "execution_count": null,
      "outputs": []
    },
    {
      "cell_type": "markdown",
      "source": [
        "## Read data parallelized"
      ],
      "metadata": {
        "id": "xw1Qo0TfYOzd"
      }
    },
    {
      "cell_type": "code",
      "source": [
        "spark = SparkSession.builder.master(\"local[1]\").appName(\"lol\").getOrCreate()"
      ],
      "metadata": {
        "id": "1SNVG2OSbdQW"
      },
      "execution_count": null,
      "outputs": []
    },
    {
      "cell_type": "code",
      "source": [
        "df = spark.read.json(\"/content/drive/MyDrive/My year 5/Big Data/MP2/big_matches_data.json\", multiLine=True)"
      ],
      "metadata": {
        "id": "KHhfr1hubnrB"
      },
      "execution_count": null,
      "outputs": []
    },
    {
      "cell_type": "code",
      "source": [
        "data_rdd = df.rdd"
      ],
      "metadata": {
        "id": "lA01L9qEb8q5"
      },
      "execution_count": null,
      "outputs": []
    },
    {
      "cell_type": "markdown",
      "source": [
        "## Data dragon\n",
        "### Champions"
      ],
      "metadata": {
        "id": "a7Ry1v4atAu4"
      }
    },
    {
      "cell_type": "code",
      "source": [
        "with open(\"/content/drive/MyDrive/My year 5/Big Data/MP2/data dragon/champions.json\") as f:\n",
        "    dragon_data = json.load(f)\n",
        "dragon_champions = list(dragon_data[\"data\"].values())"
      ],
      "metadata": {
        "id": "8kl1llaWtCgS"
      },
      "execution_count": null,
      "outputs": []
    },
    {
      "cell_type": "code",
      "source": [
        "def championId_to_name_and_class(record):\n",
        "    id = int(record[\"key\"])\n",
        "    ch_class = record[\"tags\"][0]\n",
        "    name = record[\"name\"]\n",
        "    return (id, (name, ch_class))"
      ],
      "metadata": {
        "id": "jMEDW-JVwd23"
      },
      "execution_count": null,
      "outputs": []
    },
    {
      "cell_type": "code",
      "source": [
        "champion_dragon_mapping = list(map(championId_to_name_and_class, dragon_champions))\n",
        "champion_dragon_mapping[0]"
      ],
      "metadata": {
        "colab": {
          "base_uri": "https://localhost:8080/"
        },
        "id": "geTewOT_xDV7",
        "outputId": "883e7fda-c030-4887-88e9-916ed1c2a92e"
      },
      "execution_count": null,
      "outputs": [
        {
          "output_type": "execute_result",
          "data": {
            "text/plain": [
              "(266, ('Aatrox', 'Fighter'))"
            ]
          },
          "metadata": {},
          "execution_count": 12
        }
      ]
    },
    {
      "cell_type": "code",
      "source": [
        "champion_dragon_dict = {element[0]: element[1] for element in champion_dragon_mapping}\n",
        "champion_dragon_dict"
      ],
      "metadata": {
        "id": "UgTUJDTQxsZu",
        "colab": {
          "base_uri": "https://localhost:8080/"
        },
        "outputId": "14eeb9cb-af1a-48b3-aa6a-1ad210671f8f"
      },
      "execution_count": null,
      "outputs": [
        {
          "output_type": "execute_result",
          "data": {
            "text/plain": [
              "{1: ('Annie', 'Mage'),\n",
              " 2: ('Olaf', 'Fighter'),\n",
              " 3: ('Galio', 'Tank'),\n",
              " 4: ('Twisted Fate', 'Mage'),\n",
              " 5: ('Xin Zhao', 'Fighter'),\n",
              " 6: ('Urgot', 'Fighter'),\n",
              " 7: ('LeBlanc', 'Assassin'),\n",
              " 8: ('Vladimir', 'Mage'),\n",
              " 9: ('Fiddlesticks', 'Mage'),\n",
              " 10: ('Kayle', 'Fighter'),\n",
              " 11: ('Master Yi', 'Assassin'),\n",
              " 12: ('Alistar', 'Tank'),\n",
              " 13: ('Ryze', 'Mage'),\n",
              " 14: ('Sion', 'Tank'),\n",
              " 15: ('Sivir', 'Marksman'),\n",
              " 16: ('Soraka', 'Support'),\n",
              " 17: ('Teemo', 'Marksman'),\n",
              " 18: ('Tristana', 'Marksman'),\n",
              " 19: ('Warwick', 'Fighter'),\n",
              " 20: ('Nunu & Willump', 'Tank'),\n",
              " 21: ('Miss Fortune', 'Marksman'),\n",
              " 22: ('Ashe', 'Marksman'),\n",
              " 23: ('Tryndamere', 'Fighter'),\n",
              " 24: ('Jax', 'Fighter'),\n",
              " 25: ('Morgana', 'Mage'),\n",
              " 26: ('Zilean', 'Support'),\n",
              " 27: ('Singed', 'Tank'),\n",
              " 28: ('Evelynn', 'Assassin'),\n",
              " 29: ('Twitch', 'Marksman'),\n",
              " 30: ('Karthus', 'Mage'),\n",
              " 31: (\"Cho'Gath\", 'Tank'),\n",
              " 32: ('Amumu', 'Tank'),\n",
              " 33: ('Rammus', 'Tank'),\n",
              " 34: ('Anivia', 'Mage'),\n",
              " 35: ('Shaco', 'Assassin'),\n",
              " 36: ('Dr. Mundo', 'Fighter'),\n",
              " 37: ('Sona', 'Support'),\n",
              " 38: ('Kassadin', 'Assassin'),\n",
              " 39: ('Irelia', 'Fighter'),\n",
              " 40: ('Janna', 'Support'),\n",
              " 41: ('Gangplank', 'Fighter'),\n",
              " 42: ('Corki', 'Marksman'),\n",
              " 43: ('Karma', 'Mage'),\n",
              " 44: ('Taric', 'Support'),\n",
              " 45: ('Veigar', 'Mage'),\n",
              " 48: ('Trundle', 'Fighter'),\n",
              " 50: ('Swain', 'Mage'),\n",
              " 51: ('Caitlyn', 'Marksman'),\n",
              " 53: ('Blitzcrank', 'Tank'),\n",
              " 54: ('Malphite', 'Tank'),\n",
              " 55: ('Katarina', 'Assassin'),\n",
              " 56: ('Nocturne', 'Assassin'),\n",
              " 57: ('Maokai', 'Tank'),\n",
              " 58: ('Renekton', 'Fighter'),\n",
              " 59: ('Jarvan IV', 'Tank'),\n",
              " 60: ('Elise', 'Mage'),\n",
              " 61: ('Orianna', 'Mage'),\n",
              " 62: ('Wukong', 'Fighter'),\n",
              " 63: ('Brand', 'Mage'),\n",
              " 64: ('Lee Sin', 'Fighter'),\n",
              " 67: ('Vayne', 'Marksman'),\n",
              " 68: ('Rumble', 'Fighter'),\n",
              " 69: ('Cassiopeia', 'Mage'),\n",
              " 72: ('Skarner', 'Fighter'),\n",
              " 74: ('Heimerdinger', 'Mage'),\n",
              " 75: ('Nasus', 'Fighter'),\n",
              " 76: ('Nidalee', 'Assassin'),\n",
              " 77: ('Udyr', 'Fighter'),\n",
              " 78: ('Poppy', 'Tank'),\n",
              " 79: ('Gragas', 'Fighter'),\n",
              " 80: ('Pantheon', 'Fighter'),\n",
              " 81: ('Ezreal', 'Marksman'),\n",
              " 82: ('Mordekaiser', 'Fighter'),\n",
              " 83: ('Yorick', 'Fighter'),\n",
              " 84: ('Akali', 'Assassin'),\n",
              " 85: ('Kennen', 'Mage'),\n",
              " 86: ('Garen', 'Fighter'),\n",
              " 89: ('Leona', 'Tank'),\n",
              " 90: ('Malzahar', 'Mage'),\n",
              " 91: ('Talon', 'Assassin'),\n",
              " 92: ('Riven', 'Fighter'),\n",
              " 96: (\"Kog'Maw\", 'Marksman'),\n",
              " 98: ('Shen', 'Tank'),\n",
              " 99: ('Lux', 'Mage'),\n",
              " 101: ('Xerath', 'Mage'),\n",
              " 102: ('Shyvana', 'Fighter'),\n",
              " 103: ('Ahri', 'Mage'),\n",
              " 104: ('Graves', 'Marksman'),\n",
              " 105: ('Fizz', 'Assassin'),\n",
              " 106: ('Volibear', 'Fighter'),\n",
              " 107: ('Rengar', 'Assassin'),\n",
              " 110: ('Varus', 'Marksman'),\n",
              " 111: ('Nautilus', 'Tank'),\n",
              " 112: ('Viktor', 'Mage'),\n",
              " 113: ('Sejuani', 'Tank'),\n",
              " 114: ('Fiora', 'Fighter'),\n",
              " 115: ('Ziggs', 'Mage'),\n",
              " 117: ('Lulu', 'Support'),\n",
              " 119: ('Draven', 'Marksman'),\n",
              " 120: ('Hecarim', 'Fighter'),\n",
              " 121: (\"Kha'Zix\", 'Assassin'),\n",
              " 122: ('Darius', 'Fighter'),\n",
              " 126: ('Jayce', 'Fighter'),\n",
              " 127: ('Lissandra', 'Mage'),\n",
              " 131: ('Diana', 'Fighter'),\n",
              " 133: ('Quinn', 'Marksman'),\n",
              " 134: ('Syndra', 'Mage'),\n",
              " 136: ('Aurelion Sol', 'Mage'),\n",
              " 141: ('Kayn', 'Fighter'),\n",
              " 142: ('Zoe', 'Mage'),\n",
              " 143: ('Zyra', 'Mage'),\n",
              " 145: (\"Kai'Sa\", 'Marksman'),\n",
              " 147: ('Seraphine', 'Mage'),\n",
              " 150: ('Gnar', 'Fighter'),\n",
              " 154: ('Zac', 'Tank'),\n",
              " 157: ('Yasuo', 'Fighter'),\n",
              " 161: (\"Vel'Koz\", 'Mage'),\n",
              " 163: ('Taliyah', 'Mage'),\n",
              " 164: ('Camille', 'Fighter'),\n",
              " 166: ('Akshan', 'Marksman'),\n",
              " 201: ('Braum', 'Support'),\n",
              " 202: ('Jhin', 'Marksman'),\n",
              " 203: ('Kindred', 'Marksman'),\n",
              " 222: ('Jinx', 'Marksman'),\n",
              " 223: ('Tahm Kench', 'Support'),\n",
              " 234: ('Viego', 'Assassin'),\n",
              " 235: ('Senna', 'Marksman'),\n",
              " 236: ('Lucian', 'Marksman'),\n",
              " 238: ('Zed', 'Assassin'),\n",
              " 240: ('Kled', 'Fighter'),\n",
              " 245: ('Ekko', 'Assassin'),\n",
              " 246: ('Qiyana', 'Assassin'),\n",
              " 254: ('Vi', 'Fighter'),\n",
              " 266: ('Aatrox', 'Fighter'),\n",
              " 267: ('Nami', 'Support'),\n",
              " 268: ('Azir', 'Mage'),\n",
              " 350: ('Yuumi', 'Support'),\n",
              " 360: ('Samira', 'Marksman'),\n",
              " 412: ('Thresh', 'Support'),\n",
              " 420: ('Illaoi', 'Fighter'),\n",
              " 421: (\"Rek'Sai\", 'Fighter'),\n",
              " 427: ('Ivern', 'Support'),\n",
              " 429: ('Kalista', 'Marksman'),\n",
              " 432: ('Bard', 'Support'),\n",
              " 497: ('Rakan', 'Support'),\n",
              " 498: ('Xayah', 'Marksman'),\n",
              " 516: ('Ornn', 'Tank'),\n",
              " 517: ('Sylas', 'Mage'),\n",
              " 518: ('Neeko', 'Mage'),\n",
              " 523: ('Aphelios', 'Marksman'),\n",
              " 526: ('Rell', 'Tank'),\n",
              " 555: ('Pyke', 'Support'),\n",
              " 711: ('Vex', 'Mage'),\n",
              " 777: ('Yone', 'Assassin'),\n",
              " 875: ('Sett', 'Fighter'),\n",
              " 876: ('Lillia', 'Fighter'),\n",
              " 887: ('Gwen', 'Fighter')}"
            ]
          },
          "metadata": {},
          "execution_count": 13
        }
      ]
    },
    {
      "cell_type": "markdown",
      "source": [
        "### Items"
      ],
      "metadata": {
        "id": "mvBKM5Ein5PQ"
      }
    },
    {
      "cell_type": "code",
      "source": [
        "with open(\"/content/drive/MyDrive/My year 5/Big Data/MP2/data dragon/item.json\") as f:\n",
        "    dragon_items = json.load(f)"
      ],
      "metadata": {
        "id": "kiEX7sP_n90C"
      },
      "execution_count": null,
      "outputs": []
    },
    {
      "cell_type": "code",
      "source": [
        "item_dict = {}\n",
        "for id in dragon_items[\"data\"]:\n",
        "    item_dict[id] = dragon_items[\"data\"][id][\"name\"]"
      ],
      "metadata": {
        "id": "L7oC3CMroJ9b"
      },
      "execution_count": null,
      "outputs": []
    },
    {
      "cell_type": "code",
      "source": [
        "item_dict"
      ],
      "metadata": {
        "colab": {
          "base_uri": "https://localhost:8080/"
        },
        "id": "3Wgi3UuZpB8a",
        "outputId": "362c7343-fcf7-4889-d1d4-d0568a1d405b"
      },
      "execution_count": null,
      "outputs": [
        {
          "output_type": "execute_result",
          "data": {
            "text/plain": [
              "{'1001': 'Boots',\n",
              " '1004': 'Faerie Charm',\n",
              " '1006': 'Rejuvenation Bead',\n",
              " '1011': \"Giant's Belt\",\n",
              " '1018': 'Cloak of Agility',\n",
              " '1026': 'Blasting Wand',\n",
              " '1027': 'Sapphire Crystal',\n",
              " '1028': 'Ruby Crystal',\n",
              " '1029': 'Cloth Armor',\n",
              " '1031': 'Chain Vest',\n",
              " '1033': 'Null-Magic Mantle',\n",
              " '1035': 'Emberknife',\n",
              " '1036': 'Long Sword',\n",
              " '1037': 'Pickaxe',\n",
              " '1038': 'B. F. Sword',\n",
              " '1039': 'Hailblade',\n",
              " '1040': 'Obsidian Edge',\n",
              " '1042': 'Dagger',\n",
              " '1043': 'Recurve Bow',\n",
              " '1052': 'Amplifying Tome',\n",
              " '1053': 'Vampiric Scepter',\n",
              " '1054': \"Doran's Shield\",\n",
              " '1055': \"Doran's Blade\",\n",
              " '1056': \"Doran's Ring\",\n",
              " '1057': 'Negatron Cloak',\n",
              " '1058': 'Needlessly Large Rod',\n",
              " '1082': 'Dark Seal',\n",
              " '1083': 'Cull',\n",
              " '2003': 'Health Potion',\n",
              " '2010': 'Total Biscuit of Everlasting Will',\n",
              " '2015': 'Kircheis Shard',\n",
              " '2031': 'Refillable Potion',\n",
              " '2033': 'Corrupting Potion',\n",
              " '2051': \"Guardian's Horn\",\n",
              " '2052': 'Poro-Snax',\n",
              " '2055': 'Control Ward',\n",
              " '2065': \"Shurelya's Battlesong\",\n",
              " '2138': 'Elixir of Iron',\n",
              " '2139': 'Elixir of Sorcery',\n",
              " '2140': 'Elixir of Wrath',\n",
              " '2403': 'Minion Dematerializer',\n",
              " '2419': 'Commencing Stopwatch',\n",
              " '2420': 'Stopwatch',\n",
              " '2421': 'Broken Stopwatch',\n",
              " '2422': 'Slightly Magical Footwear',\n",
              " '2423': 'Perfectly Timed Stopwatch',\n",
              " '2424': 'Broken Stopwatch',\n",
              " '3001': 'Evenshroud',\n",
              " '3003': \"Archangel's Staff\",\n",
              " '3004': 'Manamune',\n",
              " '3006': \"Berserker's Greaves\",\n",
              " '3009': 'Boots of Swiftness',\n",
              " '3011': 'Chemtech Putrifier',\n",
              " '3020': \"Sorcerer's Shoes\",\n",
              " '3024': 'Glacial Buckler',\n",
              " '3026': 'Guardian Angel',\n",
              " '3031': 'Infinity Edge',\n",
              " '3033': 'Mortal Reminder',\n",
              " '3035': 'Last Whisper',\n",
              " '3036': \"Lord Dominik's Regards\",\n",
              " '3040': \"Seraph's Embrace\",\n",
              " '3041': \"Mejai's Soulstealer\",\n",
              " '3042': 'Muramana',\n",
              " '3044': 'Phage',\n",
              " '3046': 'Phantom Dancer',\n",
              " '3047': 'Plated Steelcaps',\n",
              " '3050': \"Zeke's Convergence\",\n",
              " '3051': 'Hearthbound Axe',\n",
              " '3053': \"Sterak's Gage\",\n",
              " '3057': 'Sheen',\n",
              " '3065': 'Spirit Visage',\n",
              " '3066': 'Winged Moonplate',\n",
              " '3067': 'Kindlegem',\n",
              " '3068': 'Sunfire Aegis',\n",
              " '3070': 'Tear of the Goddess',\n",
              " '3071': 'Black Cleaver',\n",
              " '3072': 'Bloodthirster',\n",
              " '3074': 'Ravenous Hydra',\n",
              " '3075': 'Thornmail',\n",
              " '3076': 'Bramble Vest',\n",
              " '3077': 'Tiamat',\n",
              " '3078': 'Trinity Force',\n",
              " '3082': \"Warden's Mail\",\n",
              " '3083': \"Warmog's Armor\",\n",
              " '3085': \"Runaan's Hurricane\",\n",
              " '3086': 'Zeal',\n",
              " '3089': \"Rabadon's Deathcap\",\n",
              " '3091': \"Wit's End\",\n",
              " '3094': 'Rapid Firecannon',\n",
              " '3095': 'Stormrazor',\n",
              " '3100': 'Lich Bane',\n",
              " '3102': \"Banshee's Veil\",\n",
              " '3105': 'Aegis of the Legion',\n",
              " '3107': 'Redemption',\n",
              " '3108': 'Fiendish Codex',\n",
              " '3109': \"Knight's Vow\",\n",
              " '3110': 'Frozen Heart',\n",
              " '3111': \"Mercury's Treads\",\n",
              " '3112': \"Guardian's Orb\",\n",
              " '3113': 'Aether Wisp',\n",
              " '3114': 'Forbidden Idol',\n",
              " '3115': \"Nashor's Tooth\",\n",
              " '3116': \"Rylai's Crystal Scepter\",\n",
              " '3117': 'Mobility Boots',\n",
              " '3119': \"Winter's Approach\",\n",
              " '3121': 'Fimbulwinter',\n",
              " '3123': \"Executioner's Calling\",\n",
              " '3124': \"Guinsoo's Rageblade\",\n",
              " '3133': \"Caulfield's Warhammer\",\n",
              " '3134': 'Serrated Dirk',\n",
              " '3135': 'Void Staff',\n",
              " '3139': 'Mercurial Scimitar',\n",
              " '3140': 'Quicksilver Sash',\n",
              " '3142': \"Youmuu's Ghostblade\",\n",
              " '3143': \"Randuin's Omen\",\n",
              " '3145': 'Hextech Alternator',\n",
              " '3152': 'Hextech Rocketbelt',\n",
              " '3153': 'Blade of The Ruined King',\n",
              " '3155': 'Hexdrinker',\n",
              " '3156': 'Maw of Malmortius',\n",
              " '3157': \"Zhonya's Hourglass\",\n",
              " '3158': 'Ionian Boots of Lucidity',\n",
              " '3165': 'Morellonomicon',\n",
              " '3177': \"Guardian's Blade\",\n",
              " '3179': 'Umbral Glaive',\n",
              " '3181': 'Hullbreaker',\n",
              " '3184': \"Guardian's Hammer\",\n",
              " '3190': 'Locket of the Iron Solari',\n",
              " '3191': \"Seeker's Armguard\",\n",
              " '3193': 'Gargoyle Stoneplate',\n",
              " '3211': \"Spectre's Cowl\",\n",
              " '3222': \"Mikael's Blessing\",\n",
              " '3330': 'Scarecrow Effigy',\n",
              " '3340': 'Stealth Ward',\n",
              " '3363': 'Farsight Alteration',\n",
              " '3364': 'Oracle Lens',\n",
              " '3400': 'Your Cut',\n",
              " '3504': 'Ardent Censer',\n",
              " '3508': 'Essence Reaver',\n",
              " '3513': 'Eye of the Herald',\n",
              " '3599': \"Kalista's Black Spear\",\n",
              " '3600': \"Kalista's Black Spear\",\n",
              " '3742': \"Dead Man's Plate\",\n",
              " '3748': 'Titanic Hydra',\n",
              " '3801': 'Crystalline Bracer',\n",
              " '3802': 'Lost Chapter',\n",
              " '3814': 'Edge of Night',\n",
              " '3850': \"Spellthief's Edge\",\n",
              " '3851': 'Frostfang',\n",
              " '3853': 'Shard of True Ice',\n",
              " '3854': 'Steel Shoulderguards',\n",
              " '3855': 'Runesteel Spaulders',\n",
              " '3857': 'Pauldrons of Whiterock',\n",
              " '3858': 'Relic Shield',\n",
              " '3859': \"Targon's Buckler\",\n",
              " '3860': 'Bulwark of the Mountain',\n",
              " '3862': 'Spectral Sickle',\n",
              " '3863': 'Harrowing Crescent',\n",
              " '3864': 'Black Mist Scythe',\n",
              " '3916': 'Oblivion Orb',\n",
              " '4005': 'Imperial Mandate',\n",
              " '4401': 'Force of Nature',\n",
              " '4403': 'The Golden Spatula',\n",
              " '4628': 'Horizon Focus',\n",
              " '4629': 'Cosmic Drive',\n",
              " '4630': 'Blighting Jewel',\n",
              " '4632': 'Verdant Barrier',\n",
              " '4633': 'Riftmaker',\n",
              " '4635': 'Leeching Leer',\n",
              " '4636': 'Night Harvester',\n",
              " '4637': 'Demonic Embrace',\n",
              " '4638': 'Watchful Wardstone',\n",
              " '4642': 'Bandleglass Mirror',\n",
              " '4643': 'Vigilant Wardstone',\n",
              " '4644': 'Crown of the Shattered Queen',\n",
              " '4645': 'Shadowflame',\n",
              " '6029': 'Ironspike Whip',\n",
              " '6035': 'Silvermere Dawn',\n",
              " '6333': \"Death's Dance\",\n",
              " '6609': 'Chempunk Chainsword',\n",
              " '6616': 'Staff of Flowing Water',\n",
              " '6617': 'Moonstone Renewer',\n",
              " '6630': 'Goredrinker',\n",
              " '6631': 'Stridebreaker',\n",
              " '6632': 'Divine Sunderer',\n",
              " '6653': \"Liandry's Anguish\",\n",
              " '6655': \"Luden's Tempest\",\n",
              " '6656': 'Everfrost',\n",
              " '6660': \"Bami's Cinder\",\n",
              " '6662': 'Frostfire Gauntlet',\n",
              " '6664': 'Turbo Chemtank',\n",
              " '6670': 'Noonquiver',\n",
              " '6671': 'Galeforce',\n",
              " '6672': 'Kraken Slayer',\n",
              " '6673': 'Immortal Shieldbow',\n",
              " '6675': 'Navori Quickblades',\n",
              " '6676': 'The Collector',\n",
              " '6677': 'Rageknife',\n",
              " '6691': 'Duskblade of Draktharr',\n",
              " '6692': 'Eclipse',\n",
              " '6693': \"Prowler's Claw\",\n",
              " '6694': \"Serylda's Grudge\",\n",
              " '6695': \"Serpent's Fang\",\n",
              " '6696': 'Axiom Arc',\n",
              " '8001': \"Anathema's Chains\",\n",
              " '8020': 'Abyssal Mask'}"
            ]
          },
          "metadata": {},
          "execution_count": 16
        }
      ]
    },
    {
      "cell_type": "markdown",
      "source": [
        "## First requirement: Champion win, pick, ban rates"
      ],
      "metadata": {
        "id": "MXYYruSaR31F"
      }
    },
    {
      "cell_type": "markdown",
      "source": [
        "### Ban rates"
      ],
      "metadata": {
        "id": "wPJzLs7fIaic"
      }
    },
    {
      "cell_type": "code",
      "source": [
        "def record_to_champion_ban(record):\n",
        "    team1, team2 = record[\"info\"][\"teams\"]\n",
        "    bans_ids = [(ban[0],1) for ban in team1[\"bans\"]]\n",
        "    bans_ids.extend([(ban[0],1) for ban in team2[\"bans\"]])\n",
        "    # each ban maps to (champion_id, 1 for each ban)\n",
        "    return bans_ids"
      ],
      "metadata": {
        "id": "pbCo_vCzk8kt"
      },
      "execution_count": null,
      "outputs": []
    },
    {
      "cell_type": "code",
      "source": [
        "bans_per_champion = data_rdd.flatMap(record_to_champion_ban).reduceByKey(lambda a,b: a+b)"
      ],
      "metadata": {
        "id": "tr72F2JDGhvZ"
      },
      "execution_count": null,
      "outputs": []
    },
    {
      "cell_type": "code",
      "source": [
        "bans_per_champion_sorted = bans_per_champion.sortBy(lambda x: x[1], ascending = False)\n",
        "top_banned = bans_per_champion_sorted.take(6)"
      ],
      "metadata": {
        "id": "63FVc_R9HyWr"
      },
      "execution_count": null,
      "outputs": []
    },
    {
      "cell_type": "markdown",
      "source": [
        "visualizing"
      ],
      "metadata": {
        "id": "wk3IzqPfp8bk"
      }
    },
    {
      "cell_type": "code",
      "source": [
        "top_banned"
      ],
      "metadata": {
        "colab": {
          "base_uri": "https://localhost:8080/"
        },
        "id": "plsUgIH8sRGA",
        "outputId": "a53ccea5-12c4-4e27-adfd-82e9cede0f30"
      },
      "execution_count": null,
      "outputs": [
        {
          "output_type": "execute_result",
          "data": {
            "text/plain": [
              "[(350, 12855), (91, 9821), (38, 7896), (-1, 7168), (238, 6077), (777, 5871)]"
            ]
          },
          "metadata": {},
          "execution_count": 32
        }
      ]
    },
    {
      "cell_type": "code",
      "source": [
        "names = []\n",
        "bans = []\n",
        "for id, ban in top_banned:\n",
        "    if id == -1:\n",
        "        continue\n",
        "    names.append(champion_dragon_dict[id][0])\n",
        "    bans.append(ban)\n",
        "\n",
        "plt.bar(names,bans);\n",
        "plt.xlabel(\"Champion\", labelpad = 20);\n",
        "plt.ylabel(\"Total bans\");"
      ],
      "metadata": {
        "colab": {
          "base_uri": "https://localhost:8080/",
          "height": 295
        },
        "id": "fYgTzblMqFZL",
        "outputId": "032e3567-4467-4cfe-9562-a387a0089846"
      },
      "execution_count": null,
      "outputs": [
        {
          "output_type": "display_data",
          "data": {
            "image/png": "[encoded data removed]",
            "text/plain": [
              "<Figure size 432x288 with 1 Axes>"
            ]
          },
          "metadata": {
            "needs_background": "light"
          }
        }
      ]
    },
    {
      "cell_type": "markdown",
      "source": [
        "### pick rates\n",
        "Actual pick rate = $pick\\space count/ matches\\space count$"
      ],
      "metadata": {
        "id": "szUc0COhIqrR"
      }
    },
    {
      "cell_type": "code",
      "source": [
        "def record_to_champion_pick(record):\n",
        "    participants = record[\"info\"][\"participants\"]\n",
        "    mapped = list(map(lambda participant: (participant[\"championId\"],1), participants))\n",
        "    # each player maps to (champion_id, 1 for each pick)\n",
        "    return mapped"
      ],
      "metadata": {
        "id": "3ne_PgV9GywX"
      },
      "execution_count": null,
      "outputs": []
    },
    {
      "cell_type": "code",
      "source": [
        "picks_per_champion = data_rdd.flatMap(record_to_champion_pick).reduceByKey(lambda a,b:a+b).sortBy(lambda x: x[1], ascending = False)\n",
        "top_picks = picks_per_champion.take(5)"
      ],
      "metadata": {
        "id": "TcSO-dnRHD3X"
      },
      "execution_count": null,
      "outputs": []
    },
    {
      "cell_type": "markdown",
      "source": [
        "visualizing"
      ],
      "metadata": {
        "id": "8QOgi4HVwmU1"
      }
    },
    {
      "cell_type": "code",
      "source": [
        "names = []\n",
        "picks = []\n",
        "for id, pick in top_picks:\n",
        "    if id == -1:\n",
        "        continue\n",
        "    names.append(champion_dragon_dict[id][0])\n",
        "    picks.append(pick)\n",
        "\n",
        "plt.bar(names,picks);\n",
        "plt.xlabel(\"Champion\", labelpad = 20);\n",
        "plt.ylabel(\"Total picks\");"
      ],
      "metadata": {
        "colab": {
          "base_uri": "https://localhost:8080/",
          "height": 295
        },
        "id": "1-T58_YKwUJu",
        "outputId": "856c4951-c21c-4ad9-ee66-8ae925551fc5"
      },
      "execution_count": null,
      "outputs": [
        {
          "output_type": "display_data",
          "data": {
            "image/png": "[encoded data removed]",
            "text/plain": [
              "<Figure size 432x288 with 1 Axes>"
            ]
          },
          "metadata": {
            "needs_background": "light"
          }
        }
      ]
    },
    {
      "cell_type": "markdown",
      "source": [
        "### Win rates\n",
        "Out of the times a champion was picked, how many times has it won"
      ],
      "metadata": {
        "id": "KLA_HvFDJnTR"
      }
    },
    {
      "cell_type": "code",
      "source": [
        "def record_to_champion_pick_and_win(record):\n",
        "    participants = record[\"info\"][\"participants\"]\n",
        "    mapped = list(map(lambda p: (p[\"championId\"],(int(p[\"win\"]), 1)), participants))\n",
        "    # each player maps to (champion_id, (0/1 for win, 1 for pick))\n",
        "    return mapped"
      ],
      "metadata": {
        "id": "92mFtusrJ7Cl"
      },
      "execution_count": null,
      "outputs": []
    },
    {
      "cell_type": "code",
      "source": [
        "win_and_picks = data_rdd.flatMap(record_to_champion_pick_and_win).reduceByKey(lambda a,b: (a[0]+b[0], a[1]+b[1]))\n",
        "win_and_picks.take(1)"
      ],
      "metadata": {
        "colab": {
          "base_uri": "https://localhost:8080/"
        },
        "id": "cZdswQEGLqlY",
        "outputId": "dc35a45f-827f-4988-a40b-cd6d59007d9d"
      },
      "execution_count": null,
      "outputs": [
        {
          "output_type": "execute_result",
          "data": {
            "text/plain": [
              "[(57, (232, 435))]"
            ]
          },
          "metadata": {},
          "execution_count": 45
        }
      ]
    },
    {
      "cell_type": "markdown",
      "source": [
        "Some champions can have win rates of 1.0. This can be due to their existence only a few times in the dataset. **So a champion that appears once, and wins, will have a win rate of 1.0!**\n",
        "\n",
        "As such, we will filter out any champion with less than 100 wins"
      ],
      "metadata": {
        "id": "Z_tdzw4Zz9xT"
      }
    },
    {
      "cell_type": "code",
      "source": [
        "# get the win rate (win count / pick count)\n",
        "win_rate = win_and_picks.filter(lambda x: x[1][0] > 100).map(lambda x: (x[0], x[1][0]/x[1][1])).sortBy(lambda x: x[1], ascending = False) # threshold the wins above 100. \n",
        "top_winners = win_rate.take(5)"
      ],
      "metadata": {
        "id": "b5TVIzhEM8GR"
      },
      "execution_count": null,
      "outputs": []
    },
    {
      "cell_type": "markdown",
      "source": [
        "visualizing"
      ],
      "metadata": {
        "id": "PG7l-FaD0vWe"
      }
    },
    {
      "cell_type": "code",
      "source": [
        "names = []\n",
        "wins = []\n",
        "for id, win in top_winners:\n",
        "    if id == -1:\n",
        "        continue\n",
        "    names.append(champion_dragon_dict[id][0])\n",
        "    wins.append(win*100)\n",
        "\n",
        "plt.bar(names,wins);\n",
        "plt.xlabel(\"Champion\", labelpad = 20);\n",
        "plt.ylabel(\"win rate\");"
      ],
      "metadata": {
        "colab": {
          "base_uri": "https://localhost:8080/",
          "height": 295
        },
        "id": "BWoioE5V0wqG",
        "outputId": "d5079234-4d3f-4dc7-c93c-35b04599fb17"
      },
      "execution_count": null,
      "outputs": [
        {
          "output_type": "display_data",
          "data": {
            "image/png": "[encoded data removed]",
            "text/plain": [
              "<Figure size 432x288 with 1 Axes>"
            ]
          },
          "metadata": {
            "needs_background": "light"
          }
        }
      ]
    },
    {
      "cell_type": "markdown",
      "source": [
        "## Second Requirement: Champion synergies\n",
        "This can be measured by the win rate of champion duos"
      ],
      "metadata": {
        "id": "t5xHuxn9R-Jf"
      }
    },
    {
      "cell_type": "code",
      "source": [
        "def record_to_duo(record):\n",
        "    participants = record[\"info\"][\"participants\"]\n",
        "    \n",
        "    # get all duos of team 1 (duo, 1/0 for win, 1 for pick)\n",
        "    team1_players = participants[:5]\n",
        "    is_team_1_win = int(team1_players[0][\"win\"])\n",
        "    team_1_champions = list(map(lambda p: p[\"championId\"], team1_players))\n",
        "    team_1_duos = []\n",
        "    for i in range(5):\n",
        "        for j in range(i+1,5):\n",
        "            duo = [team_1_champions[i], team_1_champions[j]]\n",
        "            duo = sorted(duo) # to make sure the duo appear in the same order, to be reduced correctly\n",
        "            team_1_duos.append(tuple(duo)) \n",
        "    team_1_mapped = list(map(lambda duo: (duo, (is_team_1_win, 1)), team_1_duos))\n",
        "\n",
        "    # get all duos of team 2 (duo, 1/0 for win, 1 for pick)\n",
        "    team2_players = participants[5:]\n",
        "    team_2_champions = list(map(lambda p: p[\"championId\"], team2_players))\n",
        "    team_2_duos = []\n",
        "    for i in range(5):\n",
        "        for j in range(i+1,5):\n",
        "            duo = [team_2_champions[i], team_2_champions[j]]\n",
        "            duo = sorted(duo) # to make sure the duo appear in the same order, to be reduced correctly\n",
        "            team_2_duos.append(tuple(duo))\n",
        "    team_2_mapped = list(map(lambda duo: (duo, (1-is_team_1_win, 1)), team_2_duos))\n",
        "\n",
        "    return team_1_mapped + team_2_mapped"
      ],
      "metadata": {
        "id": "aLKKkfwIR_r3"
      },
      "execution_count": null,
      "outputs": []
    },
    {
      "cell_type": "code",
      "source": [
        "duos_wins_and_picks = data_rdd.flatMap(record_to_duo).reduceByKey(lambda a,b: (a[0]+b[0], a[1]+b[1]))\n",
        "duos_wins_and_picks.take(1)"
      ],
      "metadata": {
        "colab": {
          "base_uri": "https://localhost:8080/"
        },
        "id": "xOhIGI98Totx",
        "outputId": "b856f4a3-8dbe-494e-aa50-5c53b7f812d9"
      },
      "execution_count": null,
      "outputs": [
        {
          "output_type": "execute_result",
          "data": {
            "text/plain": [
              "[((56, 57), (4, 7))]"
            ]
          },
          "metadata": {},
          "execution_count": 53
        }
      ]
    },
    {
      "cell_type": "markdown",
      "source": [
        "once again, we try to filter out outliers by discarding duos with less than 10 picks"
      ],
      "metadata": {
        "id": "1WAUUlfp5hCd"
      }
    },
    {
      "cell_type": "code",
      "source": [
        "duo_syn = duos_wins_and_picks.filter(lambda x: x[1][1] > 100).map(lambda x: (x[0], x[1][0]/x[1][1])).sortBy(lambda x: x[1], ascending = False)\n",
        "top_duos = duo_syn.take(5)"
      ],
      "metadata": {
        "id": "-kFMSZ5d3Xf2"
      },
      "execution_count": null,
      "outputs": []
    },
    {
      "cell_type": "markdown",
      "source": [
        "visualization"
      ],
      "metadata": {
        "id": "KODjhhgl4LEN"
      }
    },
    {
      "cell_type": "code",
      "source": [
        "duos = []\n",
        "wins = []\n",
        "for duo, win in top_duos:\n",
        "    duo_1 = champion_dragon_dict[duo[0]][0]\n",
        "    duo_2 = champion_dragon_dict[duo[1]][0]\n",
        "    duos.append(duo_1+\"--\"+duo_2)\n",
        "    wins.append(win *100)\n",
        "\n",
        "plt.bar(duos, wins);\n",
        "plt.xticks(rotation = 45);\n",
        "plt.xlabel(\"Champion duo\");\n",
        "plt.ylabel(\"win rate\");"
      ],
      "metadata": {
        "colab": {
          "base_uri": "https://localhost:8080/",
          "height": 332
        },
        "id": "3vJwNjq-4NNb",
        "outputId": "4c04cc74-a48d-41ae-f820-d2414eb3b815"
      },
      "execution_count": null,
      "outputs": [
        {
          "output_type": "display_data",
          "data": {
            "image/png": "[encoded data removed]",
            "text/plain": [
              "<Figure size 432x288 with 1 Axes>"
            ]
          },
          "metadata": {
            "needs_background": "light"
          }
        }
      ]
    },
    {
      "cell_type": "markdown",
      "source": [
        "## Third requirement Items "
      ],
      "metadata": {
        "id": "1m7WeHYqx_Zk"
      }
    },
    {
      "cell_type": "code",
      "source": [
        "def record_to_item_winpick(record):\n",
        "    participants = record[\"info\"][\"participants\"]\n",
        "    items = []\n",
        "    for i in range(7):\n",
        "        items_i = list(map(lambda p: (p[f\"item{i}\"], (int(p[\"win\"]), 1)), participants))\n",
        "        items += items_i\n",
        "    # each player maps to (item_id, (0/1 for win, 1 for pick))\n",
        "    return items"
      ],
      "metadata": {
        "id": "jwjqxGGUdyXq"
      },
      "execution_count": null,
      "outputs": []
    },
    {
      "cell_type": "code",
      "source": [
        "winsAndPicks_per_item = data_rdd.flatMap(record_to_item_winpick).reduceByKey(lambda a,b: (a[0]+b[0], a[1]+b[1])).cache()\n",
        "winsAndPicks_per_item.take(5)"
      ],
      "metadata": {
        "colab": {
          "base_uri": "https://localhost:8080/"
        },
        "id": "sUBMeaaveNqp",
        "outputId": "ff43e2ac-c261-4eb7-da41-c96d60b7b269"
      },
      "execution_count": null,
      "outputs": [
        {
          "output_type": "execute_result",
          "data": {
            "text/plain": [
              "[(0, (49343, 113460)),\n",
              " (3814, (2189, 3609)),\n",
              " (3020, (18134, 35618)),\n",
              " (3006, (17610, 34786)),\n",
              " (3860, (3642, 7000))]"
            ]
          },
          "metadata": {},
          "execution_count": 34
        }
      ]
    },
    {
      "cell_type": "markdown",
      "source": [
        "### sorting based on wins"
      ],
      "metadata": {
        "id": "sXnV0FlWeVGi"
      }
    },
    {
      "cell_type": "code",
      "source": [
        "items_by_wins = data_rdd.flatMap(record_to_item_winpick).reduceByKey(lambda a,b: (a[0]+b[0], a[1]+b[1])).sortBy(lambda x: x[1][0], ascending = False)\n",
        "items_by_wins.take(5)"
      ],
      "metadata": {
        "colab": {
          "base_uri": "https://localhost:8080/"
        },
        "id": "Gj6qOXo7ei6q",
        "outputId": "82e0d191-829c-42ed-a4d9-ba916a7a9144"
      },
      "execution_count": null,
      "outputs": [
        {
          "output_type": "execute_result",
          "data": {
            "text/plain": [
              "[(0, (49343, 113460)),\n",
              " (3364, (41312, 80562)),\n",
              " (3340, (27011, 58055)),\n",
              " (3363, (26683, 51435)),\n",
              " (3158, (20206, 38657))]"
            ]
          },
          "metadata": {},
          "execution_count": 37
        }
      ]
    },
    {
      "cell_type": "markdown",
      "source": [
        "### sorting based on picks (Pick rate)"
      ],
      "metadata": {
        "id": "8U53ruZYeofi"
      }
    },
    {
      "cell_type": "code",
      "source": [
        "items_by_picks = data_rdd.flatMap(record_to_item_winpick).reduceByKey(lambda a,b: (a[0]+b[0], a[1]+b[1])).sortBy(lambda x: x[1][1], ascending = False)\n",
        "items_by_picks.take(5)"
      ],
      "metadata": {
        "colab": {
          "base_uri": "https://localhost:8080/"
        },
        "id": "a8lOGZhfepay",
        "outputId": "a5ba7e93-73d9-453d-ec56-b4c33aba8f8f"
      },
      "execution_count": null,
      "outputs": [
        {
          "output_type": "execute_result",
          "data": {
            "text/plain": [
              "[(0, (49343, 113460)),\n",
              " (3364, (41312, 80562)),\n",
              " (3340, (27011, 58055)),\n",
              " (3363, (26683, 51435)),\n",
              " (3047, (19809, 39782))]"
            ]
          },
          "metadata": {},
          "execution_count": 38
        }
      ]
    },
    {
      "cell_type": "markdown",
      "source": [
        "### win rate\n",
        "getting the win rate (win count / pick count)"
      ],
      "metadata": {
        "id": "LPR3aZK2eqpE"
      }
    },
    {
      "cell_type": "code",
      "source": [
        "item_win_rate = winsAndPicks_per_item.map(lambda x: (x[0], x[1][0]/x[1][1])).sortBy(lambda x: x[1], ascending = False)\n",
        "item_win_rate.take(50)"
      ],
      "metadata": {
        "colab": {
          "base_uri": "https://localhost:8080/"
        },
        "id": "7KTy_2KofSjp",
        "outputId": "165e41a1-9da6-4726-ec0a-bfc48f12e466"
      },
      "execution_count": null,
      "outputs": [
        {
          "output_type": "execute_result",
          "data": {
            "text/plain": [
              "[(7022, 1.0),\n",
              " (3513, 0.7948717948717948),\n",
              " (3041, 0.7941442255557564),\n",
              " (7016, 0.75),\n",
              " (7021, 0.7272727272727273),\n",
              " (7000, 0.7058823529411765),\n",
              " (7020, 0.7027027027027027),\n",
              " (7002, 0.6923076923076923),\n",
              " (7007, 0.6875),\n",
              " (7013, 0.684931506849315),\n",
              " (4643, 0.6736064472800537),\n",
              " (7015, 0.6538461538461539),\n",
              " (6035, 0.6506849315068494),\n",
              " (3400, 0.6477272727272727),\n",
              " (3222, 0.6421052631578947),\n",
              " (7008, 0.6386554621848739),\n",
              " (3026, 0.6362541403191809),\n",
              " (3139, 0.6306068601583114),\n",
              " (7009, 0.625),\n",
              " (7001, 0.6231884057971014),\n",
              " (7006, 0.6222222222222222),\n",
              " (3050, 0.6162483487450462),\n",
              " (3109, 0.6139682539682539),\n",
              " (3814, 0.6065392075367138),\n",
              " (3107, 0.606353591160221),\n",
              " (3504, 0.6053962900505903),\n",
              " (6616, 0.593143596377749),\n",
              " (3193, 0.5918367346938775),\n",
              " (7005, 0.5894308943089431),\n",
              " (7011, 0.5892857142857143),\n",
              " (3102, 0.5886699507389163),\n",
              " (7003, 0.5882352941176471),\n",
              " (4638, 0.5875),\n",
              " (3083, 0.5873015873015873),\n",
              " (6333, 0.58482216030159),\n",
              " (3089, 0.584228985179319),\n",
              " (3072, 0.583752093802345),\n",
              " (3091, 0.5832996632996633),\n",
              " (1038, 0.5827014522554942),\n",
              " (3742, 0.5799765350019555),\n",
              " (4401, 0.5794066317626527),\n",
              " (6694, 0.5774554165557626),\n",
              " (3748, 0.577373211963589),\n",
              " (3031, 0.5769208124816014),\n",
              " (3124, 0.5767074413863404),\n",
              " (3140, 0.5753424657534246),\n",
              " (7024, 0.5753424657534246),\n",
              " (3065, 0.5735700197238659),\n",
              " (2421, 0.5723160242115324),\n",
              " (3110, 0.5717178535268309)]"
            ]
          },
          "metadata": {},
          "execution_count": 39
        }
      ]
    },
    {
      "cell_type": "markdown",
      "source": [
        "## Requirement 4 Item synergies"
      ],
      "metadata": {
        "id": "58FJc4o3fT_7"
      }
    },
    {
      "cell_type": "markdown",
      "source": [
        "### Item with champion synergies"
      ],
      "metadata": {
        "id": "4nVyqXyGfXb7"
      }
    },
    {
      "cell_type": "code",
      "source": [
        "def record_to_itemChamp_winpick(record):\n",
        "    participants = record[\"info\"][\"participants\"]\n",
        "    items = []\n",
        "    for i in range(7):\n",
        "        items_i = list(map(lambda p: ((p[\"championId\"], p[f\"item{i}\"]), (int(p[\"win\"]), 1)), participants))\n",
        "        items += items_i\n",
        "    # each player maps to ((champ_id, item_id), (0/1 for win, 1 for pick))\n",
        "    return items"
      ],
      "metadata": {
        "id": "OcuNVC-0fjmK"
      },
      "execution_count": null,
      "outputs": []
    },
    {
      "cell_type": "code",
      "source": [
        "itemChamp_duo = data_rdd.flatMap(record_to_itemChamp_winpick).reduceByKey(lambda a,b: (a[0]+b[0], a[1]+b[1]))\n",
        "itemChamp_duo.take(5)"
      ],
      "metadata": {
        "colab": {
          "base_uri": "https://localhost:8080/"
        },
        "id": "sA4hRHrMflDS",
        "outputId": "790bc7a8-0482-4728-d933-7ebe87bc8677"
      },
      "execution_count": null,
      "outputs": [
        {
          "output_type": "execute_result",
          "data": {
            "text/plain": [
              "[((57, 0), (92, 209)),\n",
              " ((56, 3814), (82, 152)),\n",
              " ((134, 3020), (590, 1255)),\n",
              " ((110, 3006), (62, 107)),\n",
              " ((44, 3860), (117, 228))]"
            ]
          },
          "metadata": {},
          "execution_count": 41
        }
      ]
    },
    {
      "cell_type": "code",
      "source": [
        "itemChamp_winrate = itemChamp_duo.map(lambda x: (x[0], x[1][0]/x[1][1])).sortBy(lambda x: x[1], ascending = False)\n",
        "itemChamp_winrate.take(10)"
      ],
      "metadata": {
        "colab": {
          "base_uri": "https://localhost:8080/"
        },
        "id": "Lm6020VWfmK6",
        "outputId": "8686698f-d6d8-4efc-c771-13379236bf7a"
      },
      "execution_count": null,
      "outputs": [
        {
          "output_type": "execute_result",
          "data": {
            "text/plain": [
              "[((141, 3153), 1.0),\n",
              " ((141, 3742), 1.0),\n",
              " ((31, 3006), 1.0),\n",
              " ((56, 3181), 1.0),\n",
              " ((8, 1033), 1.0),\n",
              " ((134, 1033), 1.0),\n",
              " ((69, 7014), 1.0),\n",
              " ((142, 2422), 1.0),\n",
              " ((235, 7001), 1.0),\n",
              " ((2, 3117), 1.0)]"
            ]
          },
          "metadata": {},
          "execution_count": 42
        }
      ]
    },
    {
      "cell_type": "code",
      "source": [
        "itemChamp_pickSorted = itemChamp_duo.sortBy(lambda x: x[1][1], ascending = False)\n",
        "itemChamp_pickSorted.take(10)"
      ],
      "metadata": {
        "colab": {
          "base_uri": "https://localhost:8080/"
        },
        "id": "9QU88qgEfnqK",
        "outputId": "8ae7a414-5d13-4219-c8ec-085ff49bd422"
      },
      "execution_count": null,
      "outputs": [
        {
          "output_type": "execute_result",
          "data": {
            "text/plain": [
              "[((222, 3006), (2623, 5091)),\n",
              " ((202, 6671), (2577, 5086)),\n",
              " ((202, 3363), (2309, 4453)),\n",
              " ((222, 3363), (2308, 4290)),\n",
              " ((202, 3009), (2078, 4104)),\n",
              " ((202, 0), (1747, 3945)),\n",
              " ((777, 3006), (1958, 3905)),\n",
              " ((777, 6673), (1957, 3790)),\n",
              " ((222, 0), (1681, 3735)),\n",
              " ((51, 3006), (1694, 3383))]"
            ]
          },
          "metadata": {},
          "execution_count": 43
        }
      ]
    },
    {
      "cell_type": "markdown",
      "source": [
        "### Item with class synergies"
      ],
      "metadata": {
        "id": "QGHflYtPfpg5"
      }
    },
    {
      "cell_type": "code",
      "source": [
        "def record_to_itemClass_winpick(record):\n",
        "    participants = record[\"info\"][\"participants\"]\n",
        "    items = []\n",
        "    \n",
        "    for i in range(7):\n",
        "        items_i = list(map(lambda p: ((champion_dragon_dict[p[\"championId\"]][1], p[f\"item{i}\"]), (int(p[\"win\"]), 1)), participants))\n",
        "        items += items_i\n",
        "    # each player maps to ((class, item_id), (0/1 for win, 1 for pick))\n",
        "    return items"
      ],
      "metadata": {
        "id": "82t843WRfr9i"
      },
      "execution_count": null,
      "outputs": []
    },
    {
      "cell_type": "code",
      "source": [
        "itemClass_duo = data_rdd.flatMap(record_to_itemClass_winpick).reduceByKey(lambda a,b: (a[0]+b[0], a[1]+b[1]))\n",
        "itemClass_duo.take(5)"
      ],
      "metadata": {
        "colab": {
          "base_uri": "https://localhost:8080/"
        },
        "id": "aJi3EFYjfuLa",
        "outputId": "9652c35b-5a55-4e85-aae4-b2d96dedffd8"
      },
      "execution_count": null,
      "outputs": [
        {
          "output_type": "execute_result",
          "data": {
            "text/plain": [
              "[(('Tank', 0), (4301, 9564)),\n",
              " (('Assassin', 3814), (1299, 2081)),\n",
              " (('Mage', 3020), (11283, 22181)),\n",
              " (('Marksman', 3006), (12054, 23639)),\n",
              " (('Support', 3860), (1461, 2716))]"
            ]
          },
          "metadata": {},
          "execution_count": 45
        }
      ]
    },
    {
      "cell_type": "code",
      "source": [
        "itemClass_duo = data_rdd.flatMap(record_to_itemClass_winpick).reduceByKey(lambda a,b: (a[0]+b[0], a[1]+b[1]))\n",
        "itemClass_duo.take(5)"
      ],
      "metadata": {
        "colab": {
          "base_uri": "https://localhost:8080/"
        },
        "id": "GWlFGfYwfutR",
        "outputId": "d6bb1e42-0ac8-4215-c030-35ec2c7a401f"
      },
      "execution_count": null,
      "outputs": [
        {
          "output_type": "execute_result",
          "data": {
            "text/plain": [
              "[(('Tank', 0), (4301, 9564)),\n",
              " (('Assassin', 3814), (1299, 2081)),\n",
              " (('Mage', 3020), (11283, 22181)),\n",
              " (('Marksman', 3006), (12054, 23639)),\n",
              " (('Support', 3860), (1461, 2716))]"
            ]
          },
          "metadata": {},
          "execution_count": 46
        }
      ]
    },
    {
      "cell_type": "code",
      "source": [
        "itemClass_pickSorted = itemClass_duo.sortBy(lambda x: x[1][1], ascending = False)\n",
        "itemClass_pickSorted.take(10)"
      ],
      "metadata": {
        "colab": {
          "base_uri": "https://localhost:8080/"
        },
        "id": "Prf5sG_rfwDC",
        "outputId": "1063459e-094a-4d1a-d7b2-bf35409c9982"
      },
      "execution_count": null,
      "outputs": [
        {
          "output_type": "execute_result",
          "data": {
            "text/plain": [
              "[(('Marksman', 3363), (14970, 28785)),\n",
              " (('Marksman', 0), (12034, 28666)),\n",
              " (('Fighter', 0), (11475, 26231)),\n",
              " (('Fighter', 3340), (11496, 24090)),\n",
              " (('Marksman', 3006), (12054, 23639)),\n",
              " (('Mage', 3020), (11283, 22181)),\n",
              " (('Assassin', 3364), (10439, 20343)),\n",
              " (('Fighter', 3047), (9499, 19118)),\n",
              " (('Support', 3364), (9759, 18941)),\n",
              " (('Assassin', 0), (8111, 18925))]"
            ]
          },
          "metadata": {},
          "execution_count": 47
        }
      ]
    },
    {
      "cell_type": "markdown",
      "source": [
        "## Item Suggestion\n",
        "Given a champion's id, we will return an ordered list of the suggested items. These items are sorted by their synergy with this champion (items with highest win rate for this specific champion)"
      ],
      "metadata": {
        "id": "cg30d9Drj-HK"
      }
    },
    {
      "cell_type": "code",
      "source": [
        "def get_champion_best_itmes(champion_id):\n",
        "    return itemChamp_winrate.filter(lambda x: x[0][0] == champion_id).sortBy(lambda x: x[1], ascending = False).collect()"
      ],
      "metadata": {
        "id": "3wG-hDTwkBNK"
      },
      "execution_count": null,
      "outputs": []
    },
    {
      "cell_type": "code",
      "source": [
        "get_champion_best_itmes(222)"
      ],
      "metadata": {
        "colab": {
          "base_uri": "https://localhost:8080/"
        },
        "id": "yCSqXdIJlVTb",
        "outputId": "49301762-43cb-492c-e70a-84e6786adc76"
      },
      "execution_count": null,
      "outputs": [
        {
          "output_type": "execute_result",
          "data": {
            "text/plain": [
              "[((222, 6333), 1.0),\n",
              " ((222, 3211), 1.0),\n",
              " ((222, 6695), 1.0),\n",
              " ((222, 3400), 1.0),\n",
              " ((222, 3124), 1.0),\n",
              " ((222, 3508), 1.0),\n",
              " ((222, 3057), 1.0),\n",
              " ((222, 4633), 1.0),\n",
              " ((222, 3003), 1.0),\n",
              " ((222, 3041), 1.0),\n",
              " ((222, 3156), 0.782608695652174),\n",
              " ((222, 3157), 0.75),\n",
              " ((222, 2424), 0.75),\n",
              " ((222, 1033), 0.7391304347826086),\n",
              " ((222, 1029), 0.7272727272727273),\n",
              " ((222, 2421), 0.7272727272727273),\n",
              " ((222, 7006), 0.7272727272727273),\n",
              " ((222, 3026), 0.7003484320557491),\n",
              " ((222, 3134), 0.7),\n",
              " ((222, 3139), 0.6829268292682927),\n",
              " ((222, 7007), 0.6666666666666666),\n",
              " ((222, 6692), 0.6666666666666666),\n",
              " ((222, 3082), 0.6666666666666666),\n",
              " ((222, 3513), 0.6666666666666666),\n",
              " ((222, 3814), 0.6666666666666666),\n",
              " ((222, 3072), 0.6243243243243243),\n",
              " ((222, 1038), 0.618848167539267),\n",
              " ((222, 2420), 0.6153846153846154),\n",
              " ((222, 3133), 0.6),\n",
              " ((222, 3153), 0.6),\n",
              " ((222, 3031), 0.5975341259357111),\n",
              " ((222, 3046), 0.5826155050900548),\n",
              " ((222, 3095), 0.58),\n",
              " ((222, 3140), 0.576271186440678),\n",
              " ((222, 3047), 0.5691056910569106),\n",
              " ((222, 3091), 0.5632183908045977),\n",
              " ((222, 3051), 0.5555555555555556),\n",
              " ((222, 3094), 0.5506445672191529),\n",
              " ((222, 3036), 0.541083916083916),\n",
              " ((222, 6673), 0.54),\n",
              " ((222, 3363), 0.5379953379953379),\n",
              " ((222, 2003), 0.5342465753424658),\n",
              " ((222, 1053), 0.5311355311355311),\n",
              " ((222, 3085), 0.5294464075382803),\n",
              " ((222, 6672), 0.5231679263884325),\n",
              " ((222, 1031), 0.5217391304347826),\n",
              " ((222, 1057), 0.5161290322580645),\n",
              " ((222, 3006), 0.5152229424474563),\n",
              " ((222, 6671), 0.5138221153846154),\n",
              " ((222, 2055), 0.5061728395061729),\n",
              " ((222, 7008), 0.5),\n",
              " ((222, 6694), 0.5),\n",
              " ((222, 3077), 0.5),\n",
              " ((222, 3864), 0.5),\n",
              " ((222, 1028), 0.5),\n",
              " ((222, 3115), 0.5),\n",
              " ((222, 1055), 0.49089253187613846),\n",
              " ((222, 6676), 0.48936170212765956),\n",
              " ((222, 2015), 0.4793388429752066),\n",
              " ((222, 1037), 0.47509113001215064),\n",
              " ((222, 3086), 0.4732510288065844),\n",
              " ((222, 3364), 0.4722222222222222),\n",
              " ((222, 2031), 0.46577946768060835),\n",
              " ((222, 3155), 0.45454545454545453),\n",
              " ((222, 0), 0.4500669344042838),\n",
              " ((222, 3123), 0.44635193133047213),\n",
              " ((222, 3035), 0.4386422976501306),\n",
              " ((222, 1018), 0.4328125),\n",
              " ((222, 3033), 0.43037974683544306),\n",
              " ((222, 3042), 0.42857142857142855),\n",
              " ((222, 1083), 0.42),\n",
              " ((222, 3340), 0.41523809523809524),\n",
              " ((222, 3009), 0.4),\n",
              " ((222, 1054), 0.4),\n",
              " ((222, 2010), 0.391304347826087),\n",
              " ((222, 1036), 0.3774436090225564),\n",
              " ((222, 1042), 0.3423076923076923),\n",
              " ((222, 1001), 0.3404255319148936),\n",
              " ((222, 2422), 0.3333333333333333),\n",
              " ((222, 3143), 0.3333333333333333),\n",
              " ((222, 6691), 0.3333333333333333),\n",
              " ((222, 3070), 0.3333333333333333),\n",
              " ((222, 2033), 0.3333333333333333),\n",
              " ((222, 3158), 0.2857142857142857),\n",
              " ((222, 3111), 0.2727272727272727),\n",
              " ((222, 6696), 0.25),\n",
              " ((222, 6670), 0.17391304347826086),\n",
              " ((222, 3117), 0.14285714285714285),\n",
              " ((222, 3004), 0.0),\n",
              " ((222, 6677), 0.0),\n",
              " ((222, 3067), 0.0),\n",
              " ((222, 6662), 0.0),\n",
              " ((222, 1011), 0.0),\n",
              " ((222, 3053), 0.0),\n",
              " ((222, 3142), 0.0),\n",
              " ((222, 3854), 0.0),\n",
              " ((222, 3066), 0.0),\n",
              " ((222, 3748), 0.0)]"
            ]
          },
          "metadata": {},
          "execution_count": 97
        }
      ]
    },
    {
      "cell_type": "markdown",
      "source": [
        "## Extra requirement: \n",
        "Check player activity per time. This can be useful for estimating how many servers should be provided, to save utilization, without affecting player experience"
      ],
      "metadata": {
        "id": "fXtoQ1vSfxVK"
      }
    },
    {
      "cell_type": "code",
      "source": [
        "import datetime"
      ],
      "metadata": {
        "id": "tiQt6g8Og5F6"
      },
      "execution_count": null,
      "outputs": []
    },
    {
      "cell_type": "code",
      "source": [
        "def record_to_hour(record):\n",
        "    epoch_time = record[\"info\"][\"gameCreation\"]//1000\n",
        "    mytimestamp = datetime.datetime.fromtimestamp( epoch_time )  \n",
        "    # using strftime() function to convert timestamp to just an hour\n",
        "    match_starting_hour = int(mytimestamp.strftime(\"%H\"))\n",
        "    return [(match_starting_hour, 1)]"
      ],
      "metadata": {
        "id": "gqNZbqfigas5"
      },
      "execution_count": null,
      "outputs": []
    },
    {
      "cell_type": "code",
      "source": [
        "matches_starting_hours = data_rdd.flatMap(record_to_hour).reduceByKey(lambda a,b:a+b).sortBy(lambda x: x[0], ascending = True)\n",
        "gamesPerHour = matches_starting_hours.collect()"
      ],
      "metadata": {
        "id": "nxFH6lJzgejC"
      },
      "execution_count": null,
      "outputs": []
    },
    {
      "cell_type": "code",
      "source": [
        "gamesPerHour"
      ],
      "metadata": {
        "colab": {
          "base_uri": "https://localhost:8080/"
        },
        "id": "boheb07BgqUL",
        "outputId": "f96a5f8a-49d8-493d-cf72-4f649f037739"
      },
      "execution_count": null,
      "outputs": [
        {
          "output_type": "execute_result",
          "data": {
            "text/plain": [
              "[(0, 607),\n",
              " (1, 398),\n",
              " (2, 261),\n",
              " (3, 175),\n",
              " (4, 141),\n",
              " (5, 143),\n",
              " (6, 142),\n",
              " (7, 192),\n",
              " (8, 264),\n",
              " (9, 436),\n",
              " (10, 694),\n",
              " (11, 945),\n",
              " (12, 1128),\n",
              " (13, 1278),\n",
              " (14, 1333),\n",
              " (15, 1378),\n",
              " (16, 1342),\n",
              " (17, 1285),\n",
              " (18, 1191),\n",
              " (19, 1240),\n",
              " (20, 1322),\n",
              " (21, 1259),\n",
              " (22, 1065),\n",
              " (23, 890)]"
            ]
          },
          "metadata": {},
          "execution_count": 57
        }
      ]
    },
    {
      "cell_type": "code",
      "source": [
        "hours = [str(h[0]) for h in gamesPerHour]\n",
        "games = [h[1] for h in gamesPerHour]"
      ],
      "metadata": {
        "id": "2D5Poodtgrcr"
      },
      "execution_count": null,
      "outputs": []
    },
    {
      "cell_type": "markdown",
      "source": [
        "We will rotate the lists to make the figure more visually appealing"
      ],
      "metadata": {
        "id": "jrGxSgNRh1dC"
      }
    },
    {
      "cell_type": "code",
      "source": [
        "def rotate(l, n):\n",
        "    return l[n:] + l[:n]"
      ],
      "metadata": {
        "id": "qw_t3aj_hvt0"
      },
      "execution_count": null,
      "outputs": []
    },
    {
      "cell_type": "code",
      "source": [
        "hours = rotate(hours, 5)\n",
        "games = rotate(games, 5)"
      ],
      "metadata": {
        "id": "1piAIsNnhy8R"
      },
      "execution_count": null,
      "outputs": []
    },
    {
      "cell_type": "code",
      "source": [
        "import matplotlib.pyplot as plt\n",
        "fig = plt.figure(figsize = (8,4.5))\n",
        "ax = fig.add_axes([0,0,1,1])\n",
        "plt.bar(hours,games)\n",
        "plt.title(\"Active games vs time of the day\");\n",
        "plt.xlabel(\"Hour\");\n",
        "plt.ylabel(\"Number of games\");"
      ],
      "metadata": {
        "colab": {
          "base_uri": "https://localhost:8080/",
          "height": 402
        },
        "id": "7j5LyZrjgtw6",
        "outputId": "46e576cf-3c42-4f2d-8ebc-c2f58f2d154c"
      },
      "execution_count": null,
      "outputs": [
        {
          "output_type": "display_data",
          "data": {
            "image/png": "[encoded data removed]",
            "text/plain": [
              "<Figure size 576x324 with 1 Axes>"
            ]
          },
          "metadata": {
            "needs_background": "light"
          }
        }
      ]
    }
  ]
}